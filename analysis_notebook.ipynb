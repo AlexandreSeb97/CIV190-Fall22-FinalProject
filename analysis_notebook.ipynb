{
 "cells": [
  {
   "cell_type": "markdown",
   "metadata": {},
   "source": [
    "# Is Nuclear Energy a Viable Green Energy option for California?\n",
    "\n",
    "## CIV 190 : Data and Equity for Environmental Engineering\n",
    "## Final Project Fall 2022\n",
    "\n",
    "**Group Members**\n",
    "\n",
    "- Alexandre Georges\n",
    "- Emily Kraemer\n",
    "- Sumukhi Prasad\n",
    "- Story Sandy"
   ]
  },
  {
   "cell_type": "code",
   "execution_count": 1,
   "metadata": {},
   "outputs": [],
   "source": [
    "import numpy as pd\n",
    "import pandas as pd\n",
    "import seaborn as sns\n",
    "import matplotlib.pyplot as plt"
   ]
  },
  {
   "cell_type": "markdown",
   "metadata": {},
   "source": [
    "## Data Acquisition and Cleaning"
   ]
  },
  {
   "cell_type": "markdown",
   "metadata": {},
   "source": []
  }
 ],
 "metadata": {
  "kernelspec": {
   "display_name": "Python 3.9.13 ('RemoteSensing-DataScience')",
   "language": "python",
   "name": "python3"
  },
  "language_info": {
   "codemirror_mode": {
    "name": "ipython",
    "version": 3
   },
   "file_extension": ".py",
   "mimetype": "text/x-python",
   "name": "python",
   "nbconvert_exporter": "python",
   "pygments_lexer": "ipython3",
   "version": "3.9.13"
  },
  "orig_nbformat": 4,
  "vscode": {
   "interpreter": {
    "hash": "d29cead0ac10c77f5148a0de6a0502ec179540721374c9c0ac26d58b6ebaefe8"
   }
  }
 },
 "nbformat": 4,
 "nbformat_minor": 2
}
